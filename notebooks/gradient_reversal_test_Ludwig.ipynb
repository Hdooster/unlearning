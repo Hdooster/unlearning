{
 "cells": [
  {
   "cell_type": "code",
   "execution_count": 1,
   "metadata": {},
   "outputs": [],
   "source": [
    "import os\n",
    "# os.environ[\"CUDA_DEVICE_ORDER\"]=\"PCI_BUS_ID\"   # see issue #152\n",
    "# os.environ[\"CUDA_VISIBLE_DEVICES\"]=\"0\""
   ]
  },
  {
   "cell_type": "code",
   "execution_count": 2,
   "metadata": {},
   "outputs": [
    {
     "name": "stdout",
     "output_type": "stream",
     "text": [
      "/home/rv-hdoosterlinck/repos/unlearning/src\n"
     ]
    }
   ],
   "source": [
    "# Change directory to VSCode workspace root so that relative path loads work correctly. Turn this addition off with the DataScience.changeDirOnImportExport setting\n",
    "# ms-python.python added\n",
    "import os\n",
    "try:\n",
    "\tos.chdir(os.path.join(os.getcwd(), '../src'))\n",
    "\tprint(os.getcwd())\n",
    "except:\n",
    "\tpass\n"
   ]
  },
  {
   "cell_type": "code",
   "execution_count": 3,
   "metadata": {
    "scrolled": true
   },
   "outputs": [
    {
     "name": "stderr",
     "output_type": "stream",
     "text": [
      "/home/rv-hdoosterlinck/.conda/envs/ludwig/lib/python3.6/site-packages/tensorflow/python/framework/dtypes.py:516: FutureWarning: Passing (type, 1) or '1type' as a synonym of type is deprecated; in a future version of numpy, it will be understood as (type, (1,)) / '(1,)type'.\n",
      "  _np_qint8 = np.dtype([(\"qint8\", np.int8, 1)])\n",
      "/home/rv-hdoosterlinck/.conda/envs/ludwig/lib/python3.6/site-packages/tensorflow/python/framework/dtypes.py:517: FutureWarning: Passing (type, 1) or '1type' as a synonym of type is deprecated; in a future version of numpy, it will be understood as (type, (1,)) / '(1,)type'.\n",
      "  _np_quint8 = np.dtype([(\"quint8\", np.uint8, 1)])\n",
      "/home/rv-hdoosterlinck/.conda/envs/ludwig/lib/python3.6/site-packages/tensorflow/python/framework/dtypes.py:518: FutureWarning: Passing (type, 1) or '1type' as a synonym of type is deprecated; in a future version of numpy, it will be understood as (type, (1,)) / '(1,)type'.\n",
      "  _np_qint16 = np.dtype([(\"qint16\", np.int16, 1)])\n",
      "/home/rv-hdoosterlinck/.conda/envs/ludwig/lib/python3.6/site-packages/tensorflow/python/framework/dtypes.py:519: FutureWarning: Passing (type, 1) or '1type' as a synonym of type is deprecated; in a future version of numpy, it will be understood as (type, (1,)) / '(1,)type'.\n",
      "  _np_quint16 = np.dtype([(\"quint16\", np.uint16, 1)])\n",
      "/home/rv-hdoosterlinck/.conda/envs/ludwig/lib/python3.6/site-packages/tensorflow/python/framework/dtypes.py:520: FutureWarning: Passing (type, 1) or '1type' as a synonym of type is deprecated; in a future version of numpy, it will be understood as (type, (1,)) / '(1,)type'.\n",
      "  _np_qint32 = np.dtype([(\"qint32\", np.int32, 1)])\n",
      "/home/rv-hdoosterlinck/.conda/envs/ludwig/lib/python3.6/site-packages/tensorflow/python/framework/dtypes.py:525: FutureWarning: Passing (type, 1) or '1type' as a synonym of type is deprecated; in a future version of numpy, it will be understood as (type, (1,)) / '(1,)type'.\n",
      "  np_resource = np.dtype([(\"resource\", np.ubyte, 1)])\n",
      "/home/rv-hdoosterlinck/.conda/envs/ludwig/lib/python3.6/site-packages/tensorboard/compat/tensorflow_stub/dtypes.py:541: FutureWarning: Passing (type, 1) or '1type' as a synonym of type is deprecated; in a future version of numpy, it will be understood as (type, (1,)) / '(1,)type'.\n",
      "  _np_qint8 = np.dtype([(\"qint8\", np.int8, 1)])\n",
      "/home/rv-hdoosterlinck/.conda/envs/ludwig/lib/python3.6/site-packages/tensorboard/compat/tensorflow_stub/dtypes.py:542: FutureWarning: Passing (type, 1) or '1type' as a synonym of type is deprecated; in a future version of numpy, it will be understood as (type, (1,)) / '(1,)type'.\n",
      "  _np_quint8 = np.dtype([(\"quint8\", np.uint8, 1)])\n",
      "/home/rv-hdoosterlinck/.conda/envs/ludwig/lib/python3.6/site-packages/tensorboard/compat/tensorflow_stub/dtypes.py:543: FutureWarning: Passing (type, 1) or '1type' as a synonym of type is deprecated; in a future version of numpy, it will be understood as (type, (1,)) / '(1,)type'.\n",
      "  _np_qint16 = np.dtype([(\"qint16\", np.int16, 1)])\n",
      "/home/rv-hdoosterlinck/.conda/envs/ludwig/lib/python3.6/site-packages/tensorboard/compat/tensorflow_stub/dtypes.py:544: FutureWarning: Passing (type, 1) or '1type' as a synonym of type is deprecated; in a future version of numpy, it will be understood as (type, (1,)) / '(1,)type'.\n",
      "  _np_quint16 = np.dtype([(\"quint16\", np.uint16, 1)])\n",
      "/home/rv-hdoosterlinck/.conda/envs/ludwig/lib/python3.6/site-packages/tensorboard/compat/tensorflow_stub/dtypes.py:545: FutureWarning: Passing (type, 1) or '1type' as a synonym of type is deprecated; in a future version of numpy, it will be understood as (type, (1,)) / '(1,)type'.\n",
      "  _np_qint32 = np.dtype([(\"qint32\", np.int32, 1)])\n",
      "/home/rv-hdoosterlinck/.conda/envs/ludwig/lib/python3.6/site-packages/tensorboard/compat/tensorflow_stub/dtypes.py:550: FutureWarning: Passing (type, 1) or '1type' as a synonym of type is deprecated; in a future version of numpy, it will be understood as (type, (1,)) / '(1,)type'.\n",
      "  np_resource = np.dtype([(\"resource\", np.ubyte, 1)])\n",
      "Using TensorFlow backend.\n"
     ]
    }
   ],
   "source": [
    "import os\n",
    "import shutil\n",
    "import sys\n",
    "import cv2\n",
    "import matplotlib.pyplot as plt\n",
    "import numpy as np\n",
    "import tensorflow as tf\n",
    "\n",
    "from keras.utils import to_categorical\n",
    "from network import basenet, get_multitask_network, get_numberonly_network, \\\n",
    "    get_multitask_network_gradflip\n",
    "from utils import colors as all_colors_rgb, color_MNIST, compile_model, evaluate_results\n",
    "\n",
    "%load_ext autoreload\n",
    "%autoreload 2"
   ]
  },
  {
   "cell_type": "code",
   "execution_count": 4,
   "metadata": {},
   "outputs": [
    {
     "data": {
      "text/plain": [
       "'1.14.0'"
      ]
     },
     "execution_count": 4,
     "metadata": {},
     "output_type": "execute_result"
    }
   ],
   "source": [
    "tf.__version__"
   ]
  },
  {
   "cell_type": "code",
   "execution_count": 5,
   "metadata": {},
   "outputs": [
    {
     "name": "stdout",
     "output_type": "stream",
     "text": [
      "[name: \"/device:CPU:0\"\n",
      "device_type: \"CPU\"\n",
      "memory_limit: 268435456\n",
      "locality {\n",
      "}\n",
      "incarnation: 3282315830369412314\n",
      ", name: \"/device:XLA_CPU:0\"\n",
      "device_type: \"XLA_CPU\"\n",
      "memory_limit: 17179869184\n",
      "locality {\n",
      "}\n",
      "incarnation: 10506925716430705180\n",
      "physical_device_desc: \"device: XLA_CPU device\"\n",
      "]\n",
      "1.14.0\n"
     ]
    }
   ],
   "source": [
    "import keras\n",
    "\n",
    "gpu_options = tf.GPUOptions(allow_growth=True)\n",
    "sess = tf.Session(config=tf.ConfigProto(gpu_options=gpu_options))\n",
    "\n",
    "import keras\n",
    "keras.backend.tensorflow_backend.set_session(sess)\n",
    "\n",
    "from tensorflow.python.client import device_lib\n",
    "print(device_lib.list_local_devices())\n",
    "print(tf.__version__)"
   ]
  },
  {
   "cell_type": "code",
   "execution_count": 15,
   "metadata": {},
   "outputs": [],
   "source": [
    "INITIAL_LR = 1e-4\n",
    "EPOCHS = 30\n",
    "PATIENCE = EPOCHS  # no early stopping here\n",
    "BIAS = 0.9\n",
    "GRADFLIP_LAMBDA = .1\n",
    "DATA_FOLDER = '../data'\n",
    "LOSS = 'categorical_crossentropy'\n",
    "N = 200\n",
    "\n",
    "# choose some colors\n",
    "colors = {0: 'dark red',\n",
    "          1: 'navy',\n",
    "          2: 'gold',\n",
    "          3: 'aqua',\n",
    "          4: 'indigo',\n",
    "          5: 'deep pink',\n",
    "          6: 'chocolate',\n",
    "          7: 'honeydew',\n",
    "          8: 'dark violet',\n",
    "          9: 'beige'\n",
    "          }\n",
    "colors_inv = {v: k for k, v in colors.items()}\n",
    "colors_rgb = {k: all_colors_rgb[v] for k, v in colors.items()}\n",
    "classes = list(colors.keys())"
   ]
  },
  {
   "cell_type": "markdown",
   "metadata": {},
   "source": [
    "## Color-biased MNIST"
   ]
  },
  {
   "cell_type": "code",
   "execution_count": 16,
   "metadata": {},
   "outputs": [],
   "source": [
    "# DATA\n",
    "(x_train, y_train), (x_test, y_test) = tf.keras.datasets.mnist.load_data()\n",
    "y_train_onehot = to_categorical(y_train)\n",
    "y_test_onehot = to_categorical(y_test)\n",
    "\n",
    "# make two datasets with somewhat consistent color (aka BIAS)\n",
    "x_train_color, y_train_color = color_MNIST(zip(x_train, y_train), colors, colors_rgb, bias=BIAS)\n",
    "x_test_color_ref, y_test_color_ref = color_MNIST(zip(x_test, y_test), colors, colors_rgb, bias=BIAS)\n",
    "\n",
    "# make a test dataset with fully scrambled color\n",
    "x_test_color, y_test_color = color_MNIST(zip(x_test, y_test), colors, colors_rgb, bias=0)\n",
    "\n",
    "y_train_color_onehot = to_categorical([colors_inv[c] for c in y_train_color])\n",
    "y_train_multi = {'color': y_train_color_onehot, 'number': y_train_onehot}"
   ]
  },
  {
   "cell_type": "markdown",
   "metadata": {},
   "source": [
    "# Ludwig"
   ]
  },
  {
   "cell_type": "code",
   "execution_count": 17,
   "metadata": {},
   "outputs": [],
   "source": [
    "from ludwig.api import LudwigModel"
   ]
  },
  {
   "cell_type": "markdown",
   "metadata": {},
   "source": [
    "### Write to disk"
   ]
  },
  {
   "cell_type": "code",
   "execution_count": 18,
   "metadata": {},
   "outputs": [],
   "source": [
    "import cv2\n",
    "M = 100\n",
    "\n",
    "x_train_color_paths = []\n",
    "for i, file in enumerate(x_train_color[:M]):\n",
    "    p = f'/home/rv-hdoosterlinck/repos/unlearning/data/ludwig/train/{i}.jpg'\n",
    "    cv2.imwrite(p, np.flip(file, -1))\n",
    "    x_train_color_paths.append(p)\n",
    "\n",
    "x_test_color_paths = []\n",
    "for i, file in enumerate(x_test_color[:M]):\n",
    "    p = f'/home/rv-hdoosterlinck/repos/unlearning/data/ludwig/test/{i}.jpg'\n",
    "    cv2.imwrite(p, np.flip(file, -1))\n",
    "    x_test_color_paths.append(p)\n",
    "    "
   ]
  },
  {
   "cell_type": "code",
   "execution_count": 19,
   "metadata": {},
   "outputs": [],
   "source": [
    "import pandas as pd\n",
    "train_df = pd.DataFrame({\n",
    "    'image': x_train_color_paths[:M],\n",
    "    'number': y_train[:M],\n",
    "    'color': y_train_color[:M]})\n",
    "\n",
    "test_df = pd.DataFrame({\n",
    "    'image': x_test_color_paths[:M],\n",
    "    'number': y_test[:M],\n",
    "    'color': y_test_color[:M]})"
   ]
  },
  {
   "cell_type": "code",
   "execution_count": null,
   "metadata": {
    "scrolled": true
   },
   "outputs": [],
   "source": [
    "## check that train df's number and color correlate more than test df's\n",
    "# Counter(zip(train_df['number'], train_df['color']))\n",
    "# Counter(zip(test_df['number'], test_df['color']))"
   ]
  },
  {
   "cell_type": "markdown",
   "metadata": {},
   "source": [
    "### create simple model with no gradient reversal"
   ]
  },
  {
   "cell_type": "code",
   "execution_count": null,
   "metadata": {
    "scrolled": false
   },
   "outputs": [],
   "source": [
    "model = LudwigModel(model_definition_file='/home/rv-hdoosterlinck/repos/unlearning/testmodel.yaml')\n",
    "train_stats = model.train(data_train_df=train_df, \n",
    "                          data_test_df=test_df)"
   ]
  },
  {
   "cell_type": "code",
   "execution_count": null,
   "metadata": {},
   "outputs": [],
   "source": [
    "print(train_stats['train']['number']['accuracy'][-1]) # show train acc at last epoch\n",
    "print(train_stats['test']['number']['accuracy'][-1]) # show test acc at last epoch"
   ]
  },
  {
   "cell_type": "markdown",
   "metadata": {},
   "source": [
    "### introduce gradient reversal"
   ]
  },
  {
   "cell_type": "code",
   "execution_count": null,
   "metadata": {},
   "outputs": [],
   "source": [
    "model_2 = LudwigModel(model_definition_file='/home/rv-hdoosterlinck/repos/unlearning/testmodel_gradweight.yaml')\n",
    "train_stats_2 = model_2.train(data_train_df=train_df, \n",
    "                              data_test_df=test_df)"
   ]
  },
  {
   "cell_type": "code",
   "execution_count": null,
   "metadata": {},
   "outputs": [],
   "source": [
    "print(train_stats_2['train']['number']['accuracy'][-1]) # show train acc at last epoch\n",
    "print(train_stats_2['test']['number']['accuracy'][-1]) # show test acc at last epoch"
   ]
  },
  {
   "cell_type": "markdown",
   "metadata": {},
   "source": []
  },
  {
   "cell_type": "code",
   "execution_count": null,
   "metadata": {
    "scrolled": true
   },
   "outputs": [],
   "source": [
    "list(zip(train_stats_2['train']['color']['accuracy'],\n",
    "         train_stats_2['test']['color']['accuracy']\n",
    "        )\n",
    "    )"
   ]
  },
  {
   "cell_type": "markdown",
   "metadata": {},
   "source": [
    "# End Ludwig"
   ]
  },
  {
   "cell_type": "code",
   "execution_count": 20,
   "metadata": {},
   "outputs": [],
   "source": [
    "# write away some results to jpg for inspection\n",
    "shutil.rmtree(DATA_FOLDER)\n",
    "for f in ['train', 'test']:\n",
    "    [os.makedirs(os.path.join(DATA_FOLDER, f, str(label)), exist_ok=True)\n",
    "     for label in classes]\n",
    "    [os.makedirs(os.path.join(DATA_FOLDER, f, str(label)), exist_ok=True)\n",
    "     for label in classes]\n",
    "\n",
    "for i in range(N):\n",
    "    path = os.path.join(DATA_FOLDER, 'train', str(y_train[i]), str(i)+'.jpg')\n",
    "    ret = cv2.imwrite(path, x_train_color[i])\n",
    "    assert ret\n",
    "\n",
    "for i in range(N):\n",
    "    path = os.path.join(DATA_FOLDER, 'test', str(y_test[i]), str(i)+'.jpg')\n",
    "    ret = cv2.imwrite(path, x_test_color[i])\n",
    "    assert ret\n"
   ]
  },
  {
   "cell_type": "markdown",
   "metadata": {},
   "source": [
    " ## train: number only, confirm bias"
   ]
  },
  {
   "cell_type": "code",
   "execution_count": 21,
   "metadata": {
    "scrolled": true
   },
   "outputs": [
    {
     "name": "stdout",
     "output_type": "stream",
     "text": [
      "Train on 48000 samples, validate on 12000 samples\n",
      "Epoch 1/30\n",
      "48000/48000 [==============================] - 11s 237us/step - loss: 0.8562 - acc: 0.7691 - val_loss: 0.5507 - val_acc: 0.8886\n",
      "Epoch 2/30\n",
      "48000/48000 [==============================] - 11s 234us/step - loss: 0.4609 - acc: 0.8994 - val_loss: 0.3743 - val_acc: 0.9160\n",
      "Epoch 3/30\n",
      "48000/48000 [==============================] - 11s 234us/step - loss: 0.3517 - acc: 0.9151 - val_loss: 0.3350 - val_acc: 0.9210\n",
      "Epoch 4/30\n",
      "48000/48000 [==============================] - 12s 249us/step - loss: 0.2977 - acc: 0.9237 - val_loss: 0.2679 - val_acc: 0.9318\n",
      "Epoch 5/30\n",
      "48000/48000 [==============================] - 11s 230us/step - loss: 0.2617 - acc: 0.9308 - val_loss: 0.2434 - val_acc: 0.9356\n",
      "Epoch 6/30\n",
      "48000/48000 [==============================] - 11s 230us/step - loss: 0.2363 - acc: 0.9360 - val_loss: 0.2247 - val_acc: 0.9389\n",
      "Epoch 7/30\n",
      "48000/48000 [==============================] - 11s 225us/step - loss: 0.2150 - acc: 0.9403 - val_loss: 0.2030 - val_acc: 0.9440\n",
      "Epoch 8/30\n",
      "48000/48000 [==============================] - 11s 228us/step - loss: 0.1997 - acc: 0.9445 - val_loss: 0.1889 - val_acc: 0.9477\n",
      "Epoch 9/30\n",
      "48000/48000 [==============================] - 11s 226us/step - loss: 0.1843 - acc: 0.9477 - val_loss: 0.1743 - val_acc: 0.9509\n",
      "Epoch 10/30\n",
      "48000/48000 [==============================] - 11s 228us/step - loss: 0.1722 - acc: 0.9503 - val_loss: 0.1663 - val_acc: 0.9540\n",
      "Epoch 11/30\n",
      "48000/48000 [==============================] - 11s 230us/step - loss: 0.1610 - acc: 0.9534 - val_loss: 0.1752 - val_acc: 0.9503\n",
      "Epoch 12/30\n",
      "48000/48000 [==============================] - 11s 226us/step - loss: 0.1530 - acc: 0.9555 - val_loss: 0.1475 - val_acc: 0.9571\n",
      "Epoch 13/30\n",
      "48000/48000 [==============================] - 11s 227us/step - loss: 0.1442 - acc: 0.9572 - val_loss: 0.1458 - val_acc: 0.9579\n",
      "Epoch 14/30\n",
      "48000/48000 [==============================] - 11s 227us/step - loss: 0.1371 - acc: 0.9602 - val_loss: 0.1640 - val_acc: 0.9542\n",
      "Epoch 15/30\n",
      "48000/48000 [==============================] - 11s 229us/step - loss: 0.1303 - acc: 0.9611 - val_loss: 0.1302 - val_acc: 0.9621\n",
      "Epoch 16/30\n",
      "48000/48000 [==============================] - 11s 233us/step - loss: 0.1241 - acc: 0.9635 - val_loss: 0.1614 - val_acc: 0.9537\n",
      "Epoch 17/30\n",
      "48000/48000 [==============================] - 11s 231us/step - loss: 0.1182 - acc: 0.9653 - val_loss: 0.1273 - val_acc: 0.9634\n",
      "Epoch 18/30\n",
      "48000/48000 [==============================] - 11s 237us/step - loss: 0.1156 - acc: 0.9664 - val_loss: 0.1151 - val_acc: 0.9672\n",
      "Epoch 19/30\n",
      "48000/48000 [==============================] - 11s 235us/step - loss: 0.1106 - acc: 0.9683 - val_loss: 0.1249 - val_acc: 0.9640\n",
      "Epoch 20/30\n",
      "48000/48000 [==============================] - 11s 235us/step - loss: 0.1063 - acc: 0.9693 - val_loss: 0.1091 - val_acc: 0.9686\n",
      "Epoch 21/30\n",
      "48000/48000 [==============================] - 11s 233us/step - loss: 0.1030 - acc: 0.9705 - val_loss: 0.1093 - val_acc: 0.9693\n",
      "Epoch 22/30\n",
      "48000/48000 [==============================] - 12s 244us/step - loss: 0.0989 - acc: 0.9713 - val_loss: 0.1121 - val_acc: 0.9688\n",
      "Epoch 23/30\n",
      "48000/48000 [==============================] - 11s 233us/step - loss: 0.0975 - acc: 0.9719 - val_loss: 0.1016 - val_acc: 0.9712\n",
      "Epoch 24/30\n",
      "48000/48000 [==============================] - 11s 233us/step - loss: 0.0939 - acc: 0.9733 - val_loss: 0.1066 - val_acc: 0.9700\n",
      "Epoch 25/30\n",
      "48000/48000 [==============================] - 12s 241us/step - loss: 0.0918 - acc: 0.9734 - val_loss: 0.1004 - val_acc: 0.9733\n",
      "Epoch 26/30\n",
      "48000/48000 [==============================] - 11s 239us/step - loss: 0.0899 - acc: 0.9740 - val_loss: 0.0951 - val_acc: 0.9749\n",
      "Epoch 27/30\n",
      "48000/48000 [==============================] - 12s 247us/step - loss: 0.0869 - acc: 0.9752 - val_loss: 0.0965 - val_acc: 0.9739\n",
      "Epoch 28/30\n",
      "48000/48000 [==============================] - 11s 232us/step - loss: 0.0851 - acc: 0.9758 - val_loss: 0.0929 - val_acc: 0.9726\n",
      "Epoch 29/30\n",
      "48000/48000 [==============================] - 11s 237us/step - loss: 0.0830 - acc: 0.9758 - val_loss: 0.0904 - val_acc: 0.9758\n",
      "Epoch 30/30\n",
      "48000/48000 [==============================] - 12s 241us/step - loss: 0.0811 - acc: 0.9772 - val_loss: 0.0951 - val_acc: 0.9750\n"
     ]
    },
    {
     "data": {
      "text/plain": [
       "<keras.callbacks.callbacks.History at 0x7fbafd5ad160>"
      ]
     },
     "execution_count": 21,
     "metadata": {},
     "output_type": "execute_result"
    }
   ],
   "source": [
    "simplenet = basenet(input_shape=(28, 28, 3), n_conv=3,\n",
    "                    init_filter_size=20, dropout_rate=0)\n",
    "model_number = get_numberonly_network(backbone=simplenet)\n",
    "model_number, callbacks = compile_model(model_number, 'mnist_number',\n",
    "                                        loss=LOSS,  initial_lr=INITIAL_LR, patience=PATIENCE)\n",
    "model_number.fit(x_train_color, y_train_onehot, validation_split=.2,\n",
    "                 epochs=EPOCHS, callbacks=callbacks)\n",
    "\n"
   ]
  },
  {
   "cell_type": "code",
   "execution_count": 22,
   "metadata": {},
   "outputs": [
    {
     "data": {
      "image/png": "[encoded data removed]",
      "text/plain": [
       "<Figure size 432x288 with 2 Axes>"
      ]
     },
     "metadata": {
      "needs_background": "light"
     },
     "output_type": "display_data"
    },
    {
     "name": "stdout",
     "output_type": "stream",
     "text": [
      "Accuracy: 82.51%\n",
      "Per class statistics:\n",
      "  - 0: precision 82.51%, recall 85.71%\n",
      "  - 1: precision 92.67%, recall 89.07%\n",
      "  - 2: precision 74.42%, recall 81.49%\n",
      "  - 3: precision 81.25%, recall 86.24%\n",
      "  - 4: precision 86.66%, recall 78.72%\n",
      "  - 5: precision 82.89%, recall 84.75%\n",
      "  - 6: precision 85.20%, recall 88.94%\n",
      "  - 7: precision 86.97%, recall 87.65%\n",
      "  - 8: precision 66.06%, recall 73.92%\n",
      "  - 9: precision 90.38%, recall 67.99%\n"
     ]
    }
   ],
   "source": [
    "# Without bias\n",
    "y_pred = np.argmax(model_number.predict(x_test_color), axis=1)\n",
    "evaluate_results(y_test, y_pred, classes)\n"
   ]
  },
  {
   "cell_type": "markdown",
   "metadata": {},
   "source": [
    "Compared to non-color data, training on colored data causes our model to become worse in predicting the number.\n"
   ]
  },
  {
   "cell_type": "markdown",
   "metadata": {},
   "source": [
    "### train: Gradient Reversal\n",
    " In https://github.com/feidfoe/learning-not-to-learn/blob/master/trainer.py we see the authors train with a minimax game and gradient reversal.\n",
    "\n",
    " In essence, this means the head for color still tries to extract color info from the shared embedding, but during backprop we flip the gradient between the start of the color head and the embedding layer, meaning the shared weights move away from allowing encoding color information.\n",
    "\n",
    " Let's try the gradient reversal."
   ]
  },
  {
   "cell_type": "code",
   "execution_count": 26,
   "metadata": {},
   "outputs": [],
   "source": [
    "simplenet = basenet(input_shape=(28, 28, 3), n_conv=3,\n",
    "                    init_filter_size=20, dropout_rate=0)"
   ]
  },
  {
   "cell_type": "code",
   "execution_count": 27,
   "metadata": {
    "scrolled": true
   },
   "outputs": [
    {
     "name": "stdout",
     "output_type": "stream",
     "text": [
      "Train on 48000 samples, validate on 12000 samples\n",
      "Epoch 1/30\n",
      "48000/48000 [==============================] - 12s 249us/step - loss: 5.3614 - number_loss: 1.1315 - color_loss: 4.2299 - number_acc: 0.7292 - color_acc: 0.2352 - val_loss: 2.5516 - val_number_loss: 0.5531 - val_color_loss: 1.9984 - val_number_acc: 0.8748 - val_color_acc: 0.2988\n",
      "Epoch 2/30\n",
      "48000/48000 [==============================] - 11s 238us/step - loss: 2.5860 - number_loss: 0.4869 - color_loss: 2.0991 - number_acc: 0.8862 - color_acc: 0.2558 - val_loss: 2.5559 - val_number_loss: 0.4103 - val_color_loss: 2.1456 - val_number_acc: 0.9016 - val_color_acc: 0.2333\n",
      "Epoch 3/30\n",
      "48000/48000 [==============================] - 11s 235us/step - loss: 2.4500 - number_loss: 0.3885 - color_loss: 2.0615 - number_acc: 0.9007 - color_acc: 0.2306 - val_loss: 2.2827 - val_number_loss: 0.3452 - val_color_loss: 1.9375 - val_number_acc: 0.9109 - val_color_acc: 0.2575\n",
      "Epoch 4/30\n",
      "48000/48000 [==============================] - 12s 249us/step - loss: 2.2385 - number_loss: 0.3334 - color_loss: 1.9051 - number_acc: 0.9123 - color_acc: 0.2694 - val_loss: 2.1817 - val_number_loss: 0.2941 - val_color_loss: 1.8876 - val_number_acc: 0.9224 - val_color_acc: 0.2792\n",
      "Epoch 5/30\n",
      "48000/48000 [==============================] - 12s 259us/step - loss: 2.2880 - number_loss: 0.2971 - color_loss: 1.9910 - number_acc: 0.9204 - color_acc: 0.2739 - val_loss: 2.2916 - val_number_loss: 0.2824 - val_color_loss: 2.0092 - val_number_acc: 0.9238 - val_color_acc: 0.2773\n",
      "Epoch 6/30\n",
      "48000/48000 [==============================] - 14s 281us/step - loss: 2.3512 - number_loss: 0.2652 - color_loss: 2.0859 - number_acc: 0.9287 - color_acc: 0.2408 - val_loss: 2.3635 - val_number_loss: 0.2621 - val_color_loss: 2.1015 - val_number_acc: 0.9323 - val_color_acc: 0.2078\n",
      "Epoch 7/30\n",
      "48000/48000 [==============================] - 12s 259us/step - loss: 2.3554 - number_loss: 0.2444 - color_loss: 2.1109 - number_acc: 0.9341 - color_acc: 0.2183 - val_loss: 2.3524 - val_number_loss: 0.2648 - val_color_loss: 2.0875 - val_number_acc: 0.9280 - val_color_acc: 0.2347\n",
      "Epoch 8/30\n",
      "48000/48000 [==============================] - 12s 254us/step - loss: 2.2802 - number_loss: 0.2220 - color_loss: 2.0581 - number_acc: 0.9384 - color_acc: 0.2350 - val_loss: 2.1978 - val_number_loss: 0.2113 - val_color_loss: 1.9865 - val_number_acc: 0.9412 - val_color_acc: 0.2580\n",
      "Epoch 9/30\n",
      "48000/48000 [==============================] - 12s 258us/step - loss: 2.1647 - number_loss: 0.2020 - color_loss: 1.9627 - number_acc: 0.9430 - color_acc: 0.2657 - val_loss: 2.1155 - val_number_loss: 0.1882 - val_color_loss: 1.9274 - val_number_acc: 0.9478 - val_color_acc: 0.2811\n",
      "Epoch 10/30\n",
      "48000/48000 [==============================] - 13s 265us/step - loss: 2.1224 - number_loss: 0.1875 - color_loss: 1.9349 - number_acc: 0.9479 - color_acc: 0.2743 - val_loss: 2.1095 - val_number_loss: 0.1760 - val_color_loss: 1.9335 - val_number_acc: 0.9491 - val_color_acc: 0.2657\n",
      "Epoch 11/30\n",
      "48000/48000 [==============================] - 13s 281us/step - loss: 2.1498 - number_loss: 0.1794 - color_loss: 1.9704 - number_acc: 0.9501 - color_acc: 0.2382 - val_loss: 2.1782 - val_number_loss: 0.2038 - val_color_loss: 1.9744 - val_number_acc: 0.9408 - val_color_acc: 0.2257\n",
      "Epoch 12/30\n",
      "48000/48000 [==============================] - 14s 291us/step - loss: 2.1573 - number_loss: 0.1695 - color_loss: 1.9879 - number_acc: 0.9521 - color_acc: 0.2215 - val_loss: 2.1405 - val_number_loss: 0.1635 - val_color_loss: 1.9770 - val_number_acc: 0.9542 - val_color_acc: 0.2086\n",
      "Epoch 13/30\n",
      "48000/48000 [==============================] - 13s 267us/step - loss: 2.1512 - number_loss: 0.1595 - color_loss: 1.9918 - number_acc: 0.9544 - color_acc: 0.2219 - val_loss: 2.1327 - val_number_loss: 0.1564 - val_color_loss: 1.9763 - val_number_acc: 0.9567 - val_color_acc: 0.2403\n",
      "Epoch 14/30\n",
      "48000/48000 [==============================] - 12s 260us/step - loss: 2.1416 - number_loss: 0.1533 - color_loss: 1.9884 - number_acc: 0.9561 - color_acc: 0.2357 - val_loss: 2.1504 - val_number_loss: 0.1649 - val_color_loss: 1.9854 - val_number_acc: 0.9534 - val_color_acc: 0.2348\n",
      "Epoch 15/30\n",
      "48000/48000 [==============================] - 12s 260us/step - loss: 2.1495 - number_loss: 0.1482 - color_loss: 2.0012 - number_acc: 0.9574 - color_acc: 0.2535 - val_loss: 2.1550 - val_number_loss: 0.1629 - val_color_loss: 1.9921 - val_number_acc: 0.9532 - val_color_acc: 0.2561\n",
      "Epoch 16/30\n",
      "48000/48000 [==============================] - 12s 259us/step - loss: 2.1471 - number_loss: 0.1430 - color_loss: 2.0042 - number_acc: 0.9595 - color_acc: 0.2594 - val_loss: 2.1488 - val_number_loss: 0.1544 - val_color_loss: 1.9944 - val_number_acc: 0.9570 - val_color_acc: 0.2537\n",
      "Epoch 17/30\n",
      "48000/48000 [==============================] - 12s 254us/step - loss: 2.1357 - number_loss: 0.1382 - color_loss: 1.9975 - number_acc: 0.9614 - color_acc: 0.2515 - val_loss: 2.1177 - val_number_loss: 0.1418 - val_color_loss: 1.9760 - val_number_acc: 0.9617 - val_color_acc: 0.2392\n",
      "Epoch 18/30\n",
      "48000/48000 [==============================] - 13s 268us/step - loss: 2.1106 - number_loss: 0.1342 - color_loss: 1.9763 - number_acc: 0.9614 - color_acc: 0.2319 - val_loss: 2.0892 - val_number_loss: 0.1374 - val_color_loss: 1.9519 - val_number_acc: 0.9611 - val_color_acc: 0.2267\n",
      "Epoch 19/30\n",
      "48000/48000 [==============================] - 12s 258us/step - loss: 2.0745 - number_loss: 0.1321 - color_loss: 1.9424 - number_acc: 0.9629 - color_acc: 0.2502 - val_loss: 2.0042 - val_number_loss: 0.1305 - val_color_loss: 1.8737 - val_number_acc: 0.9628 - val_color_acc: 0.2902\n",
      "Epoch 20/30\n",
      "48000/48000 [==============================] - 13s 271us/step - loss: 1.9918 - number_loss: 0.1297 - color_loss: 1.8621 - number_acc: 0.9645 - color_acc: 0.3096 - val_loss: 1.9583 - val_number_loss: 0.1369 - val_color_loss: 1.8214 - val_number_acc: 0.9586 - val_color_acc: 0.3215\n",
      "Epoch 21/30\n",
      "48000/48000 [==============================] - 13s 278us/step - loss: 1.9361 - number_loss: 0.1285 - color_loss: 1.8076 - number_acc: 0.9642 - color_acc: 0.3211 - val_loss: 1.8650 - val_number_loss: 0.1234 - val_color_loss: 1.7416 - val_number_acc: 0.9641 - val_color_acc: 0.3438\n",
      "Epoch 22/30\n",
      "48000/48000 [==============================] - 15s 305us/step - loss: 1.8686 - number_loss: 0.1240 - color_loss: 1.7446 - number_acc: 0.9654 - color_acc: 0.3342 - val_loss: 1.8116 - val_number_loss: 0.1201 - val_color_loss: 1.6915 - val_number_acc: 0.9650 - val_color_acc: 0.3565\n",
      "Epoch 23/30\n",
      "48000/48000 [==============================] - 13s 280us/step - loss: 1.8004 - number_loss: 0.1213 - color_loss: 1.6790 - number_acc: 0.9663 - color_acc: 0.3730 - val_loss: 1.7476 - val_number_loss: 0.1186 - val_color_loss: 1.6290 - val_number_acc: 0.9660 - val_color_acc: 0.4162\n",
      "Epoch 24/30\n",
      "48000/48000 [==============================] - 13s 270us/step - loss: 1.7442 - number_loss: 0.1205 - color_loss: 1.6237 - number_acc: 0.9663 - color_acc: 0.4254 - val_loss: 1.7173 - val_number_loss: 0.1271 - val_color_loss: 1.5902 - val_number_acc: 0.9638 - val_color_acc: 0.4452\n",
      "Epoch 25/30\n",
      "48000/48000 [==============================] - 13s 269us/step - loss: 1.8118 - number_loss: 0.1259 - color_loss: 1.6859 - number_acc: 0.9641 - color_acc: 0.3845 - val_loss: 1.7766 - val_number_loss: 0.1316 - val_color_loss: 1.6450 - val_number_acc: 0.9621 - val_color_acc: 0.4299\n",
      "Epoch 26/30\n",
      "48000/48000 [==============================] - 21s 438us/step - loss: 1.7831 - number_loss: 0.1288 - color_loss: 1.6543 - number_acc: 0.9635 - color_acc: 0.4832 - val_loss: 1.7554 - val_number_loss: 0.1330 - val_color_loss: 1.6224 - val_number_acc: 0.9629 - val_color_acc: 0.5096\n",
      "Epoch 27/30\n",
      "48000/48000 [==============================] - 12s 259us/step - loss: 1.7746 - number_loss: 0.1293 - color_loss: 1.6453 - number_acc: 0.9634 - color_acc: 0.4789 - val_loss: 1.7497 - val_number_loss: 0.1296 - val_color_loss: 1.6201 - val_number_acc: 0.9629 - val_color_acc: 0.4749\n",
      "Epoch 28/30\n",
      "48000/48000 [==============================] - 12s 249us/step - loss: 1.7729 - number_loss: 0.1264 - color_loss: 1.6465 - number_acc: 0.9634 - color_acc: 0.4497 - val_loss: 1.7786 - val_number_loss: 0.1373 - val_color_loss: 1.6413 - val_number_acc: 0.9595 - val_color_acc: 0.4411\n"
     ]
    },
    {
     "name": "stdout",
     "output_type": "stream",
     "text": [
      "Epoch 29/30\n",
      "48000/48000 [==============================] - 12s 240us/step - loss: 1.8573 - number_loss: 0.1273 - color_loss: 1.7300 - number_acc: 0.9637 - color_acc: 0.3676 - val_loss: 1.8805 - val_number_loss: 0.1363 - val_color_loss: 1.7442 - val_number_acc: 0.9608 - val_color_acc: 0.3359\n",
      "Epoch 30/30\n",
      "48000/48000 [==============================] - 11s 235us/step - loss: 2.0019 - number_loss: 0.1328 - color_loss: 1.8690 - number_acc: 0.9620 - color_acc: 0.2969 - val_loss: 2.1238 - val_number_loss: 0.1453 - val_color_loss: 1.9784 - val_number_acc: 0.9574 - val_color_acc: 0.2660\n"
     ]
    },
    {
     "data": {
      "text/plain": [
       "<keras.callbacks.callbacks.History at 0x7fbb6ef9ca20>"
      ]
     },
     "execution_count": 27,
     "metadata": {},
     "output_type": "execute_result"
    }
   ],
   "source": [
    "model_gradflip = get_multitask_network_gradflip(simplenet, gradflip_lambda=GRADFLIP_LAMBDA)\n",
    "\n",
    "LOSS = 'categorical_crossentropy'\n",
    "loss_weights = {\n",
    "    \"number\": 1,\n",
    "    \"color\": 1\n",
    "}\n",
    "\n",
    "model_gradflip, callbacks = compile_model(model_gradflip, 'mnist_number_color', LOSS,\n",
    "                                          loss_weights=loss_weights, initial_lr=INITIAL_LR, patience=PATIENCE)\n",
    "model_gradflip.fit(x_train_color, y_train_multi, validation_split=.2,\n",
    "                   epochs=EPOCHS, callbacks=callbacks)"
   ]
  },
  {
   "cell_type": "code",
   "execution_count": 28,
   "metadata": {
    "collapsed": true
   },
   "outputs": [
    {
     "name": "stdout",
     "output_type": "stream",
     "text": [
      "Model: \"number_color_gradflip\"\n",
      "__________________________________________________________________________________________________\n",
      "Layer (type)                    Output Shape         Param #     Connected to                     \n",
      "==================================================================================================\n",
      "input_5 (InputLayer)            (None, 28, 28, 3)    0                                            \n",
      "__________________________________________________________________________________________________\n",
      "conv2d_13 (Conv2D)              (None, 26, 26, 20)   560         input_5[0][0]                    \n",
      "__________________________________________________________________________________________________\n",
      "max_pooling2d_9 (MaxPooling2D)  (None, 13, 13, 20)   0           conv2d_13[0][0]                  \n",
      "__________________________________________________________________________________________________\n",
      "conv2d_14 (Conv2D)              (None, 11, 11, 40)   7240        max_pooling2d_9[0][0]            \n",
      "__________________________________________________________________________________________________\n",
      "max_pooling2d_10 (MaxPooling2D) (None, 5, 5, 40)     0           conv2d_14[0][0]                  \n",
      "__________________________________________________________________________________________________\n",
      "conv2d_15 (Conv2D)              (None, 3, 3, 80)     28880       max_pooling2d_10[0][0]           \n",
      "__________________________________________________________________________________________________\n",
      "global_average_pooling2d_5 (Glo (None, 80)           0           conv2d_15[0][0]                  \n",
      "__________________________________________________________________________________________________\n",
      "gradient_reversal_3 (GradientRe (None, 80)           0           global_average_pooling2d_5[0][0] \n",
      "__________________________________________________________________________________________________\n",
      "dense_10 (Dense)                (None, 40)           3240        gradient_reversal_3[0][0]        \n",
      "__________________________________________________________________________________________________\n",
      "dense_9 (Dense)                 (None, 20)           1620        global_average_pooling2d_5[0][0] \n",
      "__________________________________________________________________________________________________\n",
      "dense_11 (Dense)                (None, 20)           820         dense_10[0][0]                   \n",
      "__________________________________________________________________________________________________\n",
      "number (Dense)                  (None, 10)           210         dense_9[0][0]                    \n",
      "__________________________________________________________________________________________________\n",
      "color (Dense)                   (None, 10)           210         dense_11[0][0]                   \n",
      "==================================================================================================\n",
      "Total params: 42,780\n",
      "Trainable params: 42,780\n",
      "Non-trainable params: 0\n",
      "__________________________________________________________________________________________________\n"
     ]
    }
   ],
   "source": [
    "model_gradflip.summary()"
   ]
  },
  {
   "cell_type": "markdown",
   "metadata": {},
   "source": [
    " Now, lets predict on the inconsistently colored testset"
   ]
  },
  {
   "cell_type": "code",
   "execution_count": 29,
   "metadata": {},
   "outputs": [
    {
     "data": {
      "image/png": "[encoded data removed]",
      "text/plain": [
       "<Figure size 432x288 with 2 Axes>"
      ]
     },
     "metadata": {
      "needs_background": "light"
     },
     "output_type": "display_data"
    },
    {
     "name": "stdout",
     "output_type": "stream",
     "text": [
      "Accuracy: 76.62%\n",
      "Per class statistics:\n",
      "  - 0: precision 79.16%, recall 77.14%\n",
      "  - 1: precision 84.31%, recall 92.33%\n",
      "  - 2: precision 52.19%, recall 84.40%\n",
      "  - 3: precision 72.66%, recall 60.79%\n",
      "  - 4: precision 84.58%, recall 83.20%\n",
      "  - 5: precision 84.00%, recall 65.92%\n",
      "  - 6: precision 89.94%, recall 82.15%\n",
      "  - 7: precision 89.20%, recall 76.36%\n",
      "  - 8: precision 70.73%, recall 70.94%\n",
      "  - 9: precision 79.21%, recall 69.87%\n"
     ]
    }
   ],
   "source": [
    "# no consistent coloring in the testset, contrary to the trainingset\n",
    "# todo: how are we guaranteed of the order of outputs?\n",
    "y_pred_number, y_pred_color = model_gradflip.predict(x_test_color)\n",
    "y_pred_number = np.argmax(y_pred_number, axis=1)\n",
    "evaluate_results(y_test, y_pred_number, classes)\n"
   ]
  },
  {
   "cell_type": "markdown",
   "metadata": {},
   "source": [
    "## Conclusion\n",
    "\n",
    "Following settings:  \n",
    "INITIAL_LR = 1e-4  \n",
    "EPOCHS = 50  \n",
    "PATIENCE = EPOCHS  \n",
    "BIAS = 0.9  \n",
    "GRADFLIP_LAMBDA = .1  \n",
    "\n",
    "Our testset accuracy in predicting the number went up from 84.33 to 90.4 percent, which is pretty decent. "
   ]
  },
  {
   "cell_type": "markdown",
   "metadata": {},
   "source": [
    " # Notes:\n",
    " * Bias cannot be set to 1. If it is 1, color and number information align exactly and the two heads fight for keeping/destroying that information, without being able to nuance. Noisy bias ensures that there is indeed color info in the embedding, **separable** from number info.\n",
    " * Use a more powerful color branch (more dense layers) than the number branch so that simple hiding of color info in the embedding isn't enough."
   ]
  },
  {
   "cell_type": "code",
   "execution_count": null,
   "metadata": {},
   "outputs": [],
   "source": []
  }
 ],
 "metadata": {
  "file_extension": ".py",
  "kernelspec": {
   "display_name": "ludwig",
   "language": "python",
   "name": "ludwig"
  },
  "language_info": {
   "codemirror_mode": {
    "name": "ipython",
    "version": 3
   },
   "file_extension": ".py",
   "mimetype": "text/x-python",
   "name": "python",
   "nbconvert_exporter": "python",
   "pygments_lexer": "ipython3",
   "version": "3.6.9"
  },
  "mimetype": "text/x-python",
  "name": "python",
  "npconvert_exporter": "python",
  "pygments_lexer": "ipython3",
  "version": 3
 },
 "nbformat": 4,
 "nbformat_minor": 4
}
