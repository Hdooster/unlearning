{
 "cells": [
  {
   "cell_type": "code",
   "execution_count": 1,
   "metadata": {},
   "outputs": [
    {
     "name": "stdout",
     "output_type": "stream",
     "text": [
      "/home/rv-hdoosterlinck/repos/unlearning/src\n"
     ]
    }
   ],
   "source": [
    "# Change directory to VSCode workspace root so that relative path loads work correctly. Turn this addition off with the DataScience.changeDirOnImportExport setting\n",
    "# ms-python.python added\n",
    "import os\n",
    "try:\n",
    "\tos.chdir(os.path.join(os.getcwd(), '../src'))\n",
    "\tprint(os.getcwd())\n",
    "except:\n",
    "\tpass\n"
   ]
  },
  {
   "cell_type": "code",
   "execution_count": 2,
   "metadata": {},
   "outputs": [
    {
     "name": "stderr",
     "output_type": "stream",
     "text": [
      "/home/rv-hdoosterlinck/.conda/envs/ludwig/lib/python3.6/site-packages/tensorflow/python/framework/dtypes.py:516: FutureWarning: Passing (type, 1) or '1type' as a synonym of type is deprecated; in a future version of numpy, it will be understood as (type, (1,)) / '(1,)type'.\n",
      "  _np_qint8 = np.dtype([(\"qint8\", np.int8, 1)])\n",
      "/home/rv-hdoosterlinck/.conda/envs/ludwig/lib/python3.6/site-packages/tensorflow/python/framework/dtypes.py:517: FutureWarning: Passing (type, 1) or '1type' as a synonym of type is deprecated; in a future version of numpy, it will be understood as (type, (1,)) / '(1,)type'.\n",
      "  _np_quint8 = np.dtype([(\"quint8\", np.uint8, 1)])\n",
      "/home/rv-hdoosterlinck/.conda/envs/ludwig/lib/python3.6/site-packages/tensorflow/python/framework/dtypes.py:518: FutureWarning: Passing (type, 1) or '1type' as a synonym of type is deprecated; in a future version of numpy, it will be understood as (type, (1,)) / '(1,)type'.\n",
      "  _np_qint16 = np.dtype([(\"qint16\", np.int16, 1)])\n",
      "/home/rv-hdoosterlinck/.conda/envs/ludwig/lib/python3.6/site-packages/tensorflow/python/framework/dtypes.py:519: FutureWarning: Passing (type, 1) or '1type' as a synonym of type is deprecated; in a future version of numpy, it will be understood as (type, (1,)) / '(1,)type'.\n",
      "  _np_quint16 = np.dtype([(\"quint16\", np.uint16, 1)])\n",
      "/home/rv-hdoosterlinck/.conda/envs/ludwig/lib/python3.6/site-packages/tensorflow/python/framework/dtypes.py:520: FutureWarning: Passing (type, 1) or '1type' as a synonym of type is deprecated; in a future version of numpy, it will be understood as (type, (1,)) / '(1,)type'.\n",
      "  _np_qint32 = np.dtype([(\"qint32\", np.int32, 1)])\n",
      "/home/rv-hdoosterlinck/.conda/envs/ludwig/lib/python3.6/site-packages/tensorflow/python/framework/dtypes.py:525: FutureWarning: Passing (type, 1) or '1type' as a synonym of type is deprecated; in a future version of numpy, it will be understood as (type, (1,)) / '(1,)type'.\n",
      "  np_resource = np.dtype([(\"resource\", np.ubyte, 1)])\n",
      "/home/rv-hdoosterlinck/.conda/envs/ludwig/lib/python3.6/site-packages/tensorboard/compat/tensorflow_stub/dtypes.py:541: FutureWarning: Passing (type, 1) or '1type' as a synonym of type is deprecated; in a future version of numpy, it will be understood as (type, (1,)) / '(1,)type'.\n",
      "  _np_qint8 = np.dtype([(\"qint8\", np.int8, 1)])\n",
      "/home/rv-hdoosterlinck/.conda/envs/ludwig/lib/python3.6/site-packages/tensorboard/compat/tensorflow_stub/dtypes.py:542: FutureWarning: Passing (type, 1) or '1type' as a synonym of type is deprecated; in a future version of numpy, it will be understood as (type, (1,)) / '(1,)type'.\n",
      "  _np_quint8 = np.dtype([(\"quint8\", np.uint8, 1)])\n",
      "/home/rv-hdoosterlinck/.conda/envs/ludwig/lib/python3.6/site-packages/tensorboard/compat/tensorflow_stub/dtypes.py:543: FutureWarning: Passing (type, 1) or '1type' as a synonym of type is deprecated; in a future version of numpy, it will be understood as (type, (1,)) / '(1,)type'.\n",
      "  _np_qint16 = np.dtype([(\"qint16\", np.int16, 1)])\n",
      "/home/rv-hdoosterlinck/.conda/envs/ludwig/lib/python3.6/site-packages/tensorboard/compat/tensorflow_stub/dtypes.py:544: FutureWarning: Passing (type, 1) or '1type' as a synonym of type is deprecated; in a future version of numpy, it will be understood as (type, (1,)) / '(1,)type'.\n",
      "  _np_quint16 = np.dtype([(\"quint16\", np.uint16, 1)])\n",
      "/home/rv-hdoosterlinck/.conda/envs/ludwig/lib/python3.6/site-packages/tensorboard/compat/tensorflow_stub/dtypes.py:545: FutureWarning: Passing (type, 1) or '1type' as a synonym of type is deprecated; in a future version of numpy, it will be understood as (type, (1,)) / '(1,)type'.\n",
      "  _np_qint32 = np.dtype([(\"qint32\", np.int32, 1)])\n",
      "/home/rv-hdoosterlinck/.conda/envs/ludwig/lib/python3.6/site-packages/tensorboard/compat/tensorflow_stub/dtypes.py:550: FutureWarning: Passing (type, 1) or '1type' as a synonym of type is deprecated; in a future version of numpy, it will be understood as (type, (1,)) / '(1,)type'.\n",
      "  np_resource = np.dtype([(\"resource\", np.ubyte, 1)])\n",
      "Using TensorFlow backend.\n"
     ]
    }
   ],
   "source": [
    "import os\n",
    "import shutil\n",
    "import sys\n",
    "import cv2\n",
    "import matplotlib.pyplot as plt\n",
    "import numpy as np\n",
    "import tensorflow as tf\n",
    "\n",
    "from keras.utils import to_categorical\n",
    "from network import basenet, get_multitask_network, get_numberonly_network, \\\n",
    "    get_multitask_network_gradflip\n",
    "from utils import colors as all_colors_rgb, color_MNIST, compile_model, evaluate_results\n",
    "\n",
    "%load_ext autoreload\n",
    "%autoreload 2"
   ]
  },
  {
   "cell_type": "code",
   "execution_count": 3,
   "metadata": {},
   "outputs": [
    {
     "name": "stdout",
     "output_type": "stream",
     "text": [
      "[name: \"/device:CPU:0\"\n",
      "device_type: \"CPU\"\n",
      "memory_limit: 268435456\n",
      "locality {\n",
      "}\n",
      "incarnation: 7342484607462452269\n",
      ", name: \"/device:XLA_CPU:0\"\n",
      "device_type: \"XLA_CPU\"\n",
      "memory_limit: 17179869184\n",
      "locality {\n",
      "}\n",
      "incarnation: 10269580651508166715\n",
      "physical_device_desc: \"device: XLA_CPU device\"\n",
      "]\n"
     ]
    }
   ],
   "source": [
    "import keras\n",
    "\n",
    "gpu_options = tf.GPUOptions(allow_growth=True)\n",
    "sess = tf.Session(config=tf.ConfigProto(gpu_options=gpu_options))\n",
    "keras.backend.tensorflow_backend.set_session(sess)\n",
    "\n",
    "from tensorflow.python.client import device_lib\n",
    "print(device_lib.list_local_devices())\n"
   ]
  },
  {
   "cell_type": "code",
   "execution_count": 4,
   "metadata": {},
   "outputs": [],
   "source": [
    "INITIAL_LR = 1e-4\n",
    "EPOCHS = 50\n",
    "PATIENCE = EPOCHS  # no early stopping here\n",
    "BIAS = 0.9\n",
    "GRADFLIP_LAMBDA = .1\n",
    "DATA_FOLDER = '../data'\n",
    "LOSS = 'categorical_crossentropy'\n",
    "N = 200\n",
    "\n",
    "# choose some colors\n",
    "colors = {0: 'dark red',\n",
    "          1: 'navy',\n",
    "          2: 'gold',\n",
    "          3: 'aqua',\n",
    "          4: 'indigo',\n",
    "          5: 'deep pink',\n",
    "          6: 'chocolate',\n",
    "          7: 'honeydew',\n",
    "          8: 'dark violet',\n",
    "          9: 'beige'\n",
    "          }\n",
    "colors_inv = {v: k for k, v in colors.items()}\n",
    "colors_rgb = {k: all_colors_rgb[v] for k, v in colors.items()}\n",
    "classes = list(colors.keys())"
   ]
  },
  {
   "cell_type": "markdown",
   "metadata": {},
   "source": [
    "## Color-biased MNIST"
   ]
  },
  {
   "cell_type": "code",
   "execution_count": 5,
   "metadata": {},
   "outputs": [],
   "source": [
    "# DATA\n",
    "(x_train, y_train), (x_test, y_test) = tf.keras.datasets.mnist.load_data()\n",
    "y_train_onehot = to_categorical(y_train)\n",
    "y_test_onehot = to_categorical(y_test)\n",
    "\n",
    "x_train_color, y_train_color = color_MNIST(zip(x_train, y_train), colors, colors_rgb, bias=BIAS)\n",
    "x_test_color, y_test_color = color_MNIST(zip(x_test, y_test), colors, colors_rgb, bias=0)\n",
    "x_test_color_ref, y_test_color_ref = color_MNIST(zip(x_test, y_test), colors, colors_rgb, bias=BIAS)\n",
    "\n",
    "y_train_color_onehot = to_categorical([colors_inv[c] for c in y_train_color])\n",
    "y_train_multi = {'color': y_train_color_onehot, 'number': y_train_onehot}"
   ]
  },
  {
   "cell_type": "code",
   "execution_count": 6,
   "metadata": {},
   "outputs": [],
   "source": [
    "# write away some results to jpg for inspection\n",
    "shutil.rmtree(DATA_FOLDER)\n",
    "for f in ['train', 'test']:\n",
    "    [os.makedirs(os.path.join(DATA_FOLDER, f, str(label)), exist_ok=True)\n",
    "     for label in classes]\n",
    "    [os.makedirs(os.path.join(DATA_FOLDER, f, str(label)), exist_ok=True)\n",
    "     for label in classes]\n",
    "\n",
    "for i in range(N):\n",
    "    path = os.path.join(DATA_FOLDER, 'train', str(y_train[i]), str(i)+'.jpg')\n",
    "    ret = cv2.imwrite(path, x_train_color[i])\n",
    "    assert ret\n",
    "\n",
    "for i in range(N):\n",
    "    path = os.path.join(DATA_FOLDER, 'test', str(y_test[i]), str(i)+'.jpg')\n",
    "    ret = cv2.imwrite(path, x_test_color[i])\n",
    "    assert ret\n"
   ]
  },
  {
   "cell_type": "markdown",
   "metadata": {},
   "source": [
    " ## train: number only, confirm bias"
   ]
  },
  {
   "cell_type": "code",
   "execution_count": 7,
   "metadata": {},
   "outputs": [
    {
     "name": "stdout",
     "output_type": "stream",
     "text": [
      "WARNING:tensorflow:From /home/rv-hdoosterlinck/.conda/envs/ludwig/lib/python3.6/site-packages/keras/backend/tensorflow_backend.py:4070: The name tf.nn.max_pool is deprecated. Please use tf.nn.max_pool2d instead.\n",
      "\n",
      "WARNING:tensorflow:From /home/rv-hdoosterlinck/.conda/envs/ludwig/lib/python3.6/site-packages/keras/backend/tensorflow_backend.py:422: The name tf.global_variables is deprecated. Please use tf.compat.v1.global_variables instead.\n",
      "\n",
      "Train on 48000 samples, validate on 12000 samples\n",
      "WARNING:tensorflow:From /home/rv-hdoosterlinck/.conda/envs/ludwig/lib/python3.6/site-packages/keras/callbacks/tensorboard_v1.py:200: The name tf.summary.merge_all is deprecated. Please use tf.compat.v1.summary.merge_all instead.\n",
      "\n",
      "WARNING:tensorflow:From /home/rv-hdoosterlinck/.conda/envs/ludwig/lib/python3.6/site-packages/keras/callbacks/tensorboard_v1.py:203: The name tf.summary.FileWriter is deprecated. Please use tf.compat.v1.summary.FileWriter instead.\n",
      "\n",
      "Epoch 1/50\n",
      "48000/48000 [==============================] - 10s 215us/step - loss: 1.5641 - acc: 0.5191 - val_loss: 1.1268 - val_acc: 0.7001\n",
      "WARNING:tensorflow:From /home/rv-hdoosterlinck/.conda/envs/ludwig/lib/python3.6/site-packages/keras/callbacks/tensorboard_v1.py:343: The name tf.Summary is deprecated. Please use tf.compat.v1.Summary instead.\n",
      "\n",
      "Epoch 2/50\n",
      "48000/48000 [==============================] - 10s 213us/step - loss: 0.8683 - acc: 0.7882 - val_loss: 0.6855 - val_acc: 0.8863\n",
      "Epoch 3/50\n",
      "48000/48000 [==============================] - 13s 263us/step - loss: 0.6144 - acc: 0.8918 - val_loss: 0.5439 - val_acc: 0.8987\n",
      "Epoch 4/50\n",
      "48000/48000 [==============================] - 12s 256us/step - loss: 0.5061 - acc: 0.9009 - val_loss: 0.4616 - val_acc: 0.9068\n",
      "Epoch 5/50\n",
      "48000/48000 [==============================] - 10s 218us/step - loss: 0.4448 - acc: 0.9066 - val_loss: 0.4059 - val_acc: 0.9136\n",
      "Epoch 6/50\n",
      "48000/48000 [==============================] - 11s 239us/step - loss: 0.4012 - acc: 0.9121 - val_loss: 0.3899 - val_acc: 0.9107\n",
      "Epoch 7/50\n",
      "48000/48000 [==============================] - 11s 233us/step - loss: 0.3685 - acc: 0.9159 - val_loss: 0.3461 - val_acc: 0.9208\n",
      "Epoch 8/50\n",
      "48000/48000 [==============================] - 11s 219us/step - loss: 0.3412 - acc: 0.9208 - val_loss: 0.3135 - val_acc: 0.9263\n",
      "Epoch 9/50\n",
      "48000/48000 [==============================] - 11s 227us/step - loss: 0.3173 - acc: 0.9241 - val_loss: 0.2987 - val_acc: 0.9290\n",
      "Epoch 10/50\n",
      "48000/48000 [==============================] - 11s 228us/step - loss: 0.2978 - acc: 0.9270 - val_loss: 0.2757 - val_acc: 0.9318\n",
      "Epoch 11/50\n",
      "48000/48000 [==============================] - 10s 208us/step - loss: 0.2792 - acc: 0.9295 - val_loss: 0.2670 - val_acc: 0.9311\n",
      "Epoch 12/50\n",
      "48000/48000 [==============================] - 10s 215us/step - loss: 0.2635 - acc: 0.9328 - val_loss: 0.2466 - val_acc: 0.9347\n",
      "Epoch 13/50\n",
      "48000/48000 [==============================] - 10s 216us/step - loss: 0.2496 - acc: 0.9348 - val_loss: 0.2325 - val_acc: 0.9379\n",
      "Epoch 14/50\n",
      "48000/48000 [==============================] - 11s 227us/step - loss: 0.2365 - acc: 0.9379 - val_loss: 0.2211 - val_acc: 0.9400\n",
      "Epoch 15/50\n",
      "48000/48000 [==============================] - 10s 208us/step - loss: 0.2259 - acc: 0.9391 - val_loss: 0.2123 - val_acc: 0.9402\n",
      "Epoch 16/50\n",
      "48000/48000 [==============================] - 10s 211us/step - loss: 0.2159 - acc: 0.9411 - val_loss: 0.2014 - val_acc: 0.9430\n",
      "Epoch 17/50\n",
      "48000/48000 [==============================] - 11s 220us/step - loss: 0.2054 - acc: 0.9431 - val_loss: 0.1917 - val_acc: 0.9450\n",
      "Epoch 18/50\n",
      "48000/48000 [==============================] - 11s 223us/step - loss: 0.1959 - acc: 0.9446 - val_loss: 0.1909 - val_acc: 0.9455\n",
      "Epoch 19/50\n",
      "48000/48000 [==============================] - 11s 226us/step - loss: 0.1880 - acc: 0.9465 - val_loss: 0.1757 - val_acc: 0.9491\n",
      "Epoch 20/50\n",
      "48000/48000 [==============================] - 11s 228us/step - loss: 0.1800 - acc: 0.9476 - val_loss: 0.1713 - val_acc: 0.9498\n",
      "Epoch 21/50\n",
      "48000/48000 [==============================] - 11s 228us/step - loss: 0.1732 - acc: 0.9492 - val_loss: 0.1669 - val_acc: 0.9511\n",
      "Epoch 22/50\n",
      "48000/48000 [==============================] - 11s 238us/step - loss: 0.1674 - acc: 0.9514 - val_loss: 0.1602 - val_acc: 0.9528\n",
      "Epoch 23/50\n",
      "48000/48000 [==============================] - 11s 236us/step - loss: 0.1622 - acc: 0.9524 - val_loss: 0.1555 - val_acc: 0.9538\n",
      "Epoch 24/50\n",
      "48000/48000 [==============================] - 11s 229us/step - loss: 0.1574 - acc: 0.9542 - val_loss: 0.1511 - val_acc: 0.9543\n",
      "Epoch 25/50\n",
      "48000/48000 [==============================] - 12s 246us/step - loss: 0.1528 - acc: 0.9545 - val_loss: 0.1675 - val_acc: 0.9500\n",
      "Epoch 26/50\n",
      "48000/48000 [==============================] - 11s 238us/step - loss: 0.1481 - acc: 0.9558 - val_loss: 0.1450 - val_acc: 0.9569\n",
      "Epoch 27/50\n",
      "48000/48000 [==============================] - 11s 238us/step - loss: 0.1440 - acc: 0.9568 - val_loss: 0.1394 - val_acc: 0.9585\n",
      "Epoch 28/50\n",
      "48000/48000 [==============================] - 11s 233us/step - loss: 0.1399 - acc: 0.9577 - val_loss: 0.1369 - val_acc: 0.9578\n",
      "Epoch 29/50\n",
      "48000/48000 [==============================] - 12s 247us/step - loss: 0.1367 - acc: 0.9585 - val_loss: 0.1487 - val_acc: 0.9548\n",
      "Epoch 30/50\n",
      "48000/48000 [==============================] - 11s 226us/step - loss: 0.1336 - acc: 0.9594 - val_loss: 0.1306 - val_acc: 0.9590\n",
      "Epoch 31/50\n",
      "48000/48000 [==============================] - 10s 218us/step - loss: 0.1298 - acc: 0.9607 - val_loss: 0.1281 - val_acc: 0.9591\n",
      "Epoch 32/50\n",
      "48000/48000 [==============================] - 11s 234us/step - loss: 0.1269 - acc: 0.9613 - val_loss: 0.1248 - val_acc: 0.9624\n",
      "Epoch 33/50\n",
      "48000/48000 [==============================] - 11s 228us/step - loss: 0.1240 - acc: 0.9625 - val_loss: 0.1286 - val_acc: 0.9603\n",
      "Epoch 34/50\n",
      "48000/48000 [==============================] - 10s 216us/step - loss: 0.1213 - acc: 0.9635 - val_loss: 0.1214 - val_acc: 0.9636\n",
      "Epoch 35/50\n",
      "48000/48000 [==============================] - 10s 219us/step - loss: 0.1191 - acc: 0.9638 - val_loss: 0.1201 - val_acc: 0.9642\n",
      "Epoch 36/50\n",
      "48000/48000 [==============================] - 11s 222us/step - loss: 0.1165 - acc: 0.9650 - val_loss: 0.1198 - val_acc: 0.9621\n",
      "Epoch 37/50\n",
      "48000/48000 [==============================] - 11s 222us/step - loss: 0.1142 - acc: 0.9657 - val_loss: 0.1157 - val_acc: 0.9647\n",
      "Epoch 38/50\n",
      "48000/48000 [==============================] - 11s 232us/step - loss: 0.1122 - acc: 0.9664 - val_loss: 0.1131 - val_acc: 0.9647\n",
      "Epoch 39/50\n",
      "48000/48000 [==============================] - 11s 227us/step - loss: 0.1097 - acc: 0.9670 - val_loss: 0.1122 - val_acc: 0.9657\n",
      "Epoch 40/50\n",
      "48000/48000 [==============================] - 12s 240us/step - loss: 0.1076 - acc: 0.9671 - val_loss: 0.1102 - val_acc: 0.9672\n",
      "Epoch 41/50\n",
      "48000/48000 [==============================] - 11s 227us/step - loss: 0.1056 - acc: 0.9684 - val_loss: 0.1198 - val_acc: 0.9640\n",
      "Epoch 42/50\n",
      "48000/48000 [==============================] - 11s 239us/step - loss: 0.1038 - acc: 0.9688 - val_loss: 0.1061 - val_acc: 0.9682\n",
      "Epoch 43/50\n",
      "48000/48000 [==============================] - 11s 235us/step - loss: 0.1020 - acc: 0.9697 - val_loss: 0.1121 - val_acc: 0.9663\n",
      "Epoch 44/50\n",
      "48000/48000 [==============================] - 11s 227us/step - loss: 0.0998 - acc: 0.9708 - val_loss: 0.1011 - val_acc: 0.9692\n",
      "Epoch 45/50\n",
      "48000/48000 [==============================] - 10s 213us/step - loss: 0.0987 - acc: 0.9702 - val_loss: 0.1034 - val_acc: 0.9688\n",
      "Epoch 46/50\n",
      "48000/48000 [==============================] - 11s 226us/step - loss: 0.0971 - acc: 0.9712 - val_loss: 0.1046 - val_acc: 0.9663\n",
      "Epoch 47/50\n",
      "48000/48000 [==============================] - 11s 221us/step - loss: 0.0953 - acc: 0.9717 - val_loss: 0.0982 - val_acc: 0.9697\n",
      "Epoch 48/50\n",
      "48000/48000 [==============================] - 11s 227us/step - loss: 0.0938 - acc: 0.9716 - val_loss: 0.1034 - val_acc: 0.9689\n",
      "Epoch 49/50\n",
      "48000/48000 [==============================] - 12s 257us/step - loss: 0.0929 - acc: 0.9722 - val_loss: 0.0984 - val_acc: 0.9697\n",
      "Epoch 50/50\n",
      "48000/48000 [==============================] - 12s 251us/step - loss: 0.0914 - acc: 0.9730 - val_loss: 0.1026 - val_acc: 0.9682\n"
     ]
    },
    {
     "data": {
      "text/plain": [
       "<keras.callbacks.callbacks.History at 0x7ff3bcc4bcc0>"
      ]
     },
     "execution_count": 7,
     "metadata": {},
     "output_type": "execute_result"
    }
   ],
   "source": [
    "simplenet = basenet(input_shape=(28, 28, 3), n_conv=3,\n",
    "                    init_filter_size=20, dropout_rate=0)\n",
    "model_number = get_numberonly_network(backbone=simplenet)\n",
    "model_number, callbacks = compile_model(model_number, 'mnist_number',\n",
    "                                        loss=LOSS,  initial_lr=INITIAL_LR, patience=PATIENCE)\n",
    "model_number.fit(x_train_color, y_train_onehot, validation_split=.2,\n",
    "                 epochs=EPOCHS, callbacks=callbacks)\n",
    "\n"
   ]
  },
  {
   "cell_type": "code",
   "execution_count": 8,
   "metadata": {},
   "outputs": [
    {
     "data": {
      "image/png": "[encoded data removed]",
      "text/plain": [
       "<Figure size 432x288 with 2 Axes>"
      ]
     },
     "metadata": {
      "needs_background": "light"
     },
     "output_type": "display_data"
    },
    {
     "name": "stdout",
     "output_type": "stream",
     "text": [
      "Accuracy: 76.12%\n",
      "Per class statistics:\n",
      "  - 0: precision 78.76%, recall 89.29%\n",
      "  - 1: precision 88.70%, recall 94.71%\n",
      "  - 2: precision 75.20%, recall 73.45%\n",
      "  - 3: precision 63.44%, recall 71.49%\n",
      "  - 4: precision 73.25%, recall 83.10%\n",
      "  - 5: precision 76.88%, recall 68.61%\n",
      "  - 6: precision 83.98%, recall 83.72%\n",
      "  - 7: precision 90.88%, recall 70.72%\n",
      "  - 8: precision 62.34%, recall 49.28%\n",
      "  - 9: precision 67.97%, recall 73.84%\n"
     ]
    }
   ],
   "source": [
    "# Without bias\n",
    "y_pred = np.argmax(model_number.predict(x_test_color), axis=1)\n",
    "evaluate_results(y_test, y_pred, classes)\n"
   ]
  },
  {
   "cell_type": "markdown",
   "metadata": {},
   "source": [
    " Our model has become worse in predicting the number.\n"
   ]
  },
  {
   "cell_type": "markdown",
   "metadata": {},
   "source": [
    "### train: Gradient Reversal\n",
    " In https://github.com/feidfoe/learning-not-to-learn/blob/master/trainer.py we see the authors train with a minimax game and gradient reversal.\n",
    "\n",
    " In essence, this means the head for color still tries to extract color info from the shared embedding, but during backprop we flip the gradient between the start of the color head and the embedding layer, meaning the shared weights move away from allowing encoding color information.\n",
    "\n",
    " Let's try the gradient reversal."
   ]
  },
  {
   "cell_type": "code",
   "execution_count": 9,
   "metadata": {},
   "outputs": [],
   "source": [
    "simplenet = basenet(input_shape=(28, 28, 3), n_conv=3,\n",
    "                    init_filter_size=20, dropout_rate=0)"
   ]
  },
  {
   "cell_type": "code",
   "execution_count": 10,
   "metadata": {},
   "outputs": [
    {
     "name": "stdout",
     "output_type": "stream",
     "text": [
      "Train on 48000 samples, validate on 12000 samples\n",
      "Epoch 1/50\n",
      "48000/48000 [==============================] - 13s 274us/step - loss: 3.6004 - number_loss: 1.0521 - color_loss: 2.5483 - number_acc: 0.7315 - color_acc: 0.1852 - val_loss: 2.5036 - val_number_loss: 0.6230 - val_color_loss: 1.8806 - val_number_acc: 0.8729 - val_color_acc: 0.2948\n",
      "Epoch 2/50\n",
      "48000/48000 [==============================] - 13s 274us/step - loss: 2.1653 - number_loss: 0.5470 - color_loss: 1.6183 - number_acc: 0.8866 - color_acc: 0.3721 - val_loss: 1.9538 - val_number_loss: 0.4867 - val_color_loss: 1.4670 - val_number_acc: 0.8983 - val_color_acc: 0.4335\n",
      "Epoch 3/50\n",
      "48000/48000 [==============================] - 13s 261us/step - loss: 1.8024 - number_loss: 0.4504 - color_loss: 1.3520 - number_acc: 0.9026 - color_acc: 0.4915 - val_loss: 1.6407 - val_number_loss: 0.4304 - val_color_loss: 1.2103 - val_number_acc: 0.9061 - val_color_acc: 0.5678\n",
      "Epoch 4/50\n",
      "48000/48000 [==============================] - 13s 268us/step - loss: 1.5321 - number_loss: 0.3867 - color_loss: 1.1454 - number_acc: 0.9106 - color_acc: 0.5858 - val_loss: 1.4934 - val_number_loss: 0.3994 - val_color_loss: 1.0939 - val_number_acc: 0.9053 - val_color_acc: 0.6094\n",
      "Epoch 5/50\n",
      "48000/48000 [==============================] - 12s 250us/step - loss: 1.4109 - number_loss: 0.3333 - color_loss: 1.0776 - number_acc: 0.9194 - color_acc: 0.6058 - val_loss: 1.4124 - val_number_loss: 0.3157 - val_color_loss: 1.0966 - val_number_acc: 0.9212 - val_color_acc: 0.6105\n",
      "Epoch 6/50\n",
      "48000/48000 [==============================] - 13s 267us/step - loss: 1.4659 - number_loss: 0.3044 - color_loss: 1.1615 - number_acc: 0.9250 - color_acc: 0.6022 - val_loss: 1.4750 - val_number_loss: 0.2894 - val_color_loss: 1.1857 - val_number_acc: 0.9258 - val_color_acc: 0.6243\n",
      "Epoch 7/50\n",
      "48000/48000 [==============================] - 12s 253us/step - loss: 1.4897 - number_loss: 0.2875 - color_loss: 1.2022 - number_acc: 0.9269 - color_acc: 0.6273 - val_loss: 1.4088 - val_number_loss: 0.2747 - val_color_loss: 1.1341 - val_number_acc: 0.9269 - val_color_acc: 0.6501\n",
      "Epoch 8/50\n",
      "48000/48000 [==============================] - 12s 254us/step - loss: 1.3632 - number_loss: 0.2702 - color_loss: 1.0929 - number_acc: 0.9293 - color_acc: 0.6407 - val_loss: 1.2939 - val_number_loss: 0.2667 - val_color_loss: 1.0272 - val_number_acc: 0.9281 - val_color_acc: 0.6649\n",
      "Epoch 9/50\n",
      "48000/48000 [==============================] - 13s 273us/step - loss: 1.1868 - number_loss: 0.2505 - color_loss: 0.9364 - number_acc: 0.9338 - color_acc: 0.7011 - val_loss: 1.0908 - val_number_loss: 0.2434 - val_color_loss: 0.8474 - val_number_acc: 0.9354 - val_color_acc: 0.7567\n",
      "Epoch 10/50\n",
      "48000/48000 [==============================] - 12s 245us/step - loss: 1.0218 - number_loss: 0.2324 - color_loss: 0.7894 - number_acc: 0.9375 - color_acc: 0.7829 - val_loss: 0.9395 - val_number_loss: 0.2232 - val_color_loss: 0.7163 - val_number_acc: 0.9384 - val_color_acc: 0.8224\n",
      "Epoch 11/50\n",
      "48000/48000 [==============================] - 12s 243us/step - loss: 0.9220 - number_loss: 0.2154 - color_loss: 0.7065 - number_acc: 0.9408 - color_acc: 0.8168 - val_loss: 0.8892 - val_number_loss: 0.2034 - val_color_loss: 0.6858 - val_number_acc: 0.9426 - val_color_acc: 0.8263\n",
      "Epoch 12/50\n",
      "48000/48000 [==============================] - 12s 244us/step - loss: 0.8986 - number_loss: 0.2023 - color_loss: 0.6963 - number_acc: 0.9431 - color_acc: 0.8178 - val_loss: 0.8718 - val_number_loss: 0.1828 - val_color_loss: 0.6890 - val_number_acc: 0.9495 - val_color_acc: 0.8207\n",
      "Epoch 13/50\n",
      "48000/48000 [==============================] - 11s 239us/step - loss: 0.9057 - number_loss: 0.1891 - color_loss: 0.7166 - number_acc: 0.9478 - color_acc: 0.8110 - val_loss: 0.8817 - val_number_loss: 0.1810 - val_color_loss: 0.7007 - val_number_acc: 0.9477 - val_color_acc: 0.8185\n",
      "Epoch 14/50\n",
      "48000/48000 [==============================] - 11s 237us/step - loss: 0.8840 - number_loss: 0.1771 - color_loss: 0.7068 - number_acc: 0.9493 - color_acc: 0.8123 - val_loss: 0.8621 - val_number_loss: 0.1600 - val_color_loss: 0.7021 - val_number_acc: 0.9547 - val_color_acc: 0.8173\n",
      "Epoch 15/50\n",
      "48000/48000 [==============================] - 12s 247us/step - loss: 0.8711 - number_loss: 0.1668 - color_loss: 0.7043 - number_acc: 0.9531 - color_acc: 0.8147 - val_loss: 0.8923 - val_number_loss: 0.1593 - val_color_loss: 0.7329 - val_number_acc: 0.9542 - val_color_acc: 0.8105\n",
      "Epoch 16/50\n",
      "48000/48000 [==============================] - 12s 241us/step - loss: 0.8906 - number_loss: 0.1611 - color_loss: 0.7295 - number_acc: 0.9546 - color_acc: 0.8100 - val_loss: 0.8943 - val_number_loss: 0.1578 - val_color_loss: 0.7366 - val_number_acc: 0.9559 - val_color_acc: 0.8094\n",
      "Epoch 17/50\n",
      "48000/48000 [==============================] - 11s 235us/step - loss: 0.9192 - number_loss: 0.1556 - color_loss: 0.7636 - number_acc: 0.9558 - color_acc: 0.7986 - val_loss: 0.9390 - val_number_loss: 0.1470 - val_color_loss: 0.7920 - val_number_acc: 0.9579 - val_color_acc: 0.7914\n",
      "Epoch 18/50\n",
      "48000/48000 [==============================] - 12s 251us/step - loss: 0.9572 - number_loss: 0.1532 - color_loss: 0.8040 - number_acc: 0.9556 - color_acc: 0.7862 - val_loss: 0.9361 - val_number_loss: 0.1493 - val_color_loss: 0.7868 - val_number_acc: 0.9568 - val_color_acc: 0.7965\n",
      "Epoch 19/50\n",
      "48000/48000 [==============================] - 12s 240us/step - loss: 0.9523 - number_loss: 0.1492 - color_loss: 0.8031 - number_acc: 0.9580 - color_acc: 0.7898 - val_loss: 0.9527 - val_number_loss: 0.1376 - val_color_loss: 0.8150 - val_number_acc: 0.9615 - val_color_acc: 0.7861\n",
      "Epoch 20/50\n",
      "48000/48000 [==============================] - 12s 249us/step - loss: 0.9838 - number_loss: 0.1489 - color_loss: 0.8349 - number_acc: 0.9572 - color_acc: 0.7809 - val_loss: 0.9847 - val_number_loss: 0.1407 - val_color_loss: 0.8440 - val_number_acc: 0.9585 - val_color_acc: 0.7905\n",
      "Epoch 21/50\n",
      "48000/48000 [==============================] - 13s 277us/step - loss: 1.0379 - number_loss: 0.1494 - color_loss: 0.8884 - number_acc: 0.9576 - color_acc: 0.7719 - val_loss: 1.0633 - val_number_loss: 0.1433 - val_color_loss: 0.9199 - val_number_acc: 0.9600 - val_color_acc: 0.7706\n",
      "Epoch 22/50\n",
      "48000/48000 [==============================] - 13s 264us/step - loss: 1.1847 - number_loss: 0.1531 - color_loss: 1.0315 - number_acc: 0.9567 - color_acc: 0.7283 - val_loss: 1.2256 - val_number_loss: 0.1485 - val_color_loss: 1.0771 - val_number_acc: 0.9570 - val_color_acc: 0.7122\n",
      "Epoch 23/50\n",
      "48000/48000 [==============================] - 13s 261us/step - loss: 1.3074 - number_loss: 0.1553 - color_loss: 1.1521 - number_acc: 0.9559 - color_acc: 0.6762 - val_loss: 1.3501 - val_number_loss: 0.1428 - val_color_loss: 1.2073 - val_number_acc: 0.9596 - val_color_acc: 0.6601\n",
      "Epoch 24/50\n",
      "48000/48000 [==============================] - 13s 276us/step - loss: 1.3824 - number_loss: 0.1564 - color_loss: 1.2260 - number_acc: 0.9550 - color_acc: 0.6482 - val_loss: 1.3238 - val_number_loss: 0.1417 - val_color_loss: 1.1821 - val_number_acc: 0.9612 - val_color_acc: 0.6827\n",
      "Epoch 25/50\n",
      "48000/48000 [==============================] - 13s 268us/step - loss: 1.3351 - number_loss: 0.1500 - color_loss: 1.1851 - number_acc: 0.9562 - color_acc: 0.6697 - val_loss: 1.2362 - val_number_loss: 0.1293 - val_color_loss: 1.1070 - val_number_acc: 0.9627 - val_color_acc: 0.6998\n",
      "Epoch 26/50\n",
      "48000/48000 [==============================] - 13s 279us/step - loss: 1.2070 - number_loss: 0.1396 - color_loss: 1.0675 - number_acc: 0.9603 - color_acc: 0.7142 - val_loss: 1.1133 - val_number_loss: 0.1337 - val_color_loss: 0.9796 - val_number_acc: 0.9614 - val_color_acc: 0.7530\n",
      "Epoch 27/50\n",
      "48000/48000 [==============================] - 13s 264us/step - loss: 1.0761 - number_loss: 0.1335 - color_loss: 0.9426 - number_acc: 0.9614 - color_acc: 0.7600 - val_loss: 1.0266 - val_number_loss: 0.1201 - val_color_loss: 0.9065 - val_number_acc: 0.9663 - val_color_acc: 0.7807\n",
      "Epoch 28/50\n",
      "48000/48000 [==============================] - 12s 252us/step - loss: 1.0550 - number_loss: 0.1291 - color_loss: 0.9259 - number_acc: 0.9624 - color_acc: 0.7627 - val_loss: 1.1351 - val_number_loss: 0.1377 - val_color_loss: 0.9974 - val_number_acc: 0.9613 - val_color_acc: 0.7322\n"
     ]
    },
    {
     "name": "stdout",
     "output_type": "stream",
     "text": [
      "Epoch 29/50\n",
      "48000/48000 [==============================] - 11s 237us/step - loss: 1.1268 - number_loss: 0.1280 - color_loss: 0.9988 - number_acc: 0.9626 - color_acc: 0.7201 - val_loss: 1.0369 - val_number_loss: 0.1267 - val_color_loss: 0.9102 - val_number_acc: 0.9648 - val_color_acc: 0.7456\n",
      "Epoch 30/50\n",
      "48000/48000 [==============================] - 11s 226us/step - loss: 0.9369 - number_loss: 0.1230 - color_loss: 0.8139 - number_acc: 0.9644 - color_acc: 0.7887 - val_loss: 0.8592 - val_number_loss: 0.1199 - val_color_loss: 0.7392 - val_number_acc: 0.9678 - val_color_acc: 0.8217\n",
      "Epoch 31/50\n",
      "48000/48000 [==============================] - 11s 238us/step - loss: 0.8239 - number_loss: 0.1143 - color_loss: 0.7096 - number_acc: 0.9670 - color_acc: 0.8232 - val_loss: 0.8029 - val_number_loss: 0.1056 - val_color_loss: 0.6974 - val_number_acc: 0.9712 - val_color_acc: 0.8363\n",
      "Epoch 32/50\n",
      "48000/48000 [==============================] - 11s 230us/step - loss: 0.8224 - number_loss: 0.1115 - color_loss: 0.7109 - number_acc: 0.9679 - color_acc: 0.8206 - val_loss: 0.8712 - val_number_loss: 0.1278 - val_color_loss: 0.7434 - val_number_acc: 0.9655 - val_color_acc: 0.8188\n",
      "Epoch 33/50\n",
      "48000/48000 [==============================] - 11s 230us/step - loss: 0.9030 - number_loss: 0.1111 - color_loss: 0.7919 - number_acc: 0.9678 - color_acc: 0.7955 - val_loss: 0.9143 - val_number_loss: 0.1059 - val_color_loss: 0.8084 - val_number_acc: 0.9703 - val_color_acc: 0.7847\n",
      "Epoch 34/50\n",
      "48000/48000 [==============================] - 12s 255us/step - loss: 0.9015 - number_loss: 0.1104 - color_loss: 0.7911 - number_acc: 0.9683 - color_acc: 0.7970 - val_loss: 0.8695 - val_number_loss: 0.1049 - val_color_loss: 0.7646 - val_number_acc: 0.9707 - val_color_acc: 0.8152\n",
      "Epoch 35/50\n",
      "48000/48000 [==============================] - 11s 238us/step - loss: 0.8930 - number_loss: 0.1076 - color_loss: 0.7854 - number_acc: 0.9687 - color_acc: 0.8016 - val_loss: 0.9072 - val_number_loss: 0.1115 - val_color_loss: 0.7957 - val_number_acc: 0.9693 - val_color_acc: 0.7970\n",
      "Epoch 36/50\n",
      "48000/48000 [==============================] - 11s 235us/step - loss: 0.9466 - number_loss: 0.1078 - color_loss: 0.8388 - number_acc: 0.9694 - color_acc: 0.7879 - val_loss: 1.0054 - val_number_loss: 0.1062 - val_color_loss: 0.8992 - val_number_acc: 0.9719 - val_color_acc: 0.7701\n",
      "Epoch 37/50\n",
      "48000/48000 [==============================] - 11s 236us/step - loss: 1.0409 - number_loss: 0.1083 - color_loss: 0.9326 - number_acc: 0.9685 - color_acc: 0.7642 - val_loss: 1.0689 - val_number_loss: 0.1143 - val_color_loss: 0.9546 - val_number_acc: 0.9687 - val_color_acc: 0.7611\n",
      "Epoch 38/50\n",
      "48000/48000 [==============================] - 12s 245us/step - loss: 1.0487 - number_loss: 0.1083 - color_loss: 0.9405 - number_acc: 0.9693 - color_acc: 0.7608 - val_loss: 1.0464 - val_number_loss: 0.1151 - val_color_loss: 0.9312 - val_number_acc: 0.9694 - val_color_acc: 0.7671\n",
      "Epoch 39/50\n",
      "48000/48000 [==============================] - 12s 248us/step - loss: 0.9977 - number_loss: 0.1058 - color_loss: 0.8918 - number_acc: 0.9702 - color_acc: 0.7725 - val_loss: 0.9938 - val_number_loss: 0.1162 - val_color_loss: 0.8776 - val_number_acc: 0.9687 - val_color_acc: 0.7772\n",
      "Epoch 40/50\n",
      "48000/48000 [==============================] - 12s 241us/step - loss: 0.9988 - number_loss: 0.1044 - color_loss: 0.8945 - number_acc: 0.9704 - color_acc: 0.7746 - val_loss: 1.0079 - val_number_loss: 0.1126 - val_color_loss: 0.8953 - val_number_acc: 0.9707 - val_color_acc: 0.7865\n",
      "Epoch 41/50\n",
      "48000/48000 [==============================] - 11s 235us/step - loss: 0.9896 - number_loss: 0.1030 - color_loss: 0.8866 - number_acc: 0.9710 - color_acc: 0.7843 - val_loss: 0.9742 - val_number_loss: 0.1111 - val_color_loss: 0.8631 - val_number_acc: 0.9712 - val_color_acc: 0.7982\n",
      "Epoch 42/50\n",
      "48000/48000 [==============================] - 12s 258us/step - loss: 0.9591 - number_loss: 0.1005 - color_loss: 0.8586 - number_acc: 0.9709 - color_acc: 0.7944 - val_loss: 0.9339 - val_number_loss: 0.1088 - val_color_loss: 0.8251 - val_number_acc: 0.9712 - val_color_acc: 0.8147\n",
      "Epoch 43/50\n",
      "48000/48000 [==============================] - 13s 264us/step - loss: 0.9182 - number_loss: 0.0966 - color_loss: 0.8215 - number_acc: 0.9728 - color_acc: 0.8100 - val_loss: 0.9548 - val_number_loss: 0.1138 - val_color_loss: 0.8410 - val_number_acc: 0.9707 - val_color_acc: 0.8191\n",
      "Epoch 44/50\n",
      "48000/48000 [==============================] - 13s 275us/step - loss: 0.9017 - number_loss: 0.0944 - color_loss: 0.8074 - number_acc: 0.9734 - color_acc: 0.8181 - val_loss: 0.9092 - val_number_loss: 0.1029 - val_color_loss: 0.8063 - val_number_acc: 0.9722 - val_color_acc: 0.8261\n",
      "Epoch 45/50\n",
      "48000/48000 [==============================] - 13s 263us/step - loss: 0.9158 - number_loss: 0.0938 - color_loss: 0.8220 - number_acc: 0.9739 - color_acc: 0.8178 - val_loss: 0.9495 - val_number_loss: 0.1010 - val_color_loss: 0.8486 - val_number_acc: 0.9742 - val_color_acc: 0.8190\n",
      "Epoch 46/50\n",
      "48000/48000 [==============================] - 14s 299us/step - loss: 0.9342 - number_loss: 0.0928 - color_loss: 0.8414 - number_acc: 0.9730 - color_acc: 0.8132 - val_loss: 0.9200 - val_number_loss: 0.0971 - val_color_loss: 0.8229 - val_number_acc: 0.9748 - val_color_acc: 0.8263\n",
      "Epoch 47/50\n",
      "48000/48000 [==============================] - 15s 323us/step - loss: 0.9100 - number_loss: 0.0909 - color_loss: 0.8191 - number_acc: 0.9745 - color_acc: 0.8221 - val_loss: 0.9158 - val_number_loss: 0.1071 - val_color_loss: 0.8087 - val_number_acc: 0.9711 - val_color_acc: 0.8302\n",
      "Epoch 48/50\n",
      "48000/48000 [==============================] - 14s 288us/step - loss: 0.8898 - number_loss: 0.0895 - color_loss: 0.8004 - number_acc: 0.9741 - color_acc: 0.8296 - val_loss: 0.8819 - val_number_loss: 0.0972 - val_color_loss: 0.7847 - val_number_acc: 0.9741 - val_color_acc: 0.8382\n",
      "Epoch 49/50\n",
      "48000/48000 [==============================] - 14s 282us/step - loss: 0.8817 - number_loss: 0.0900 - color_loss: 0.7917 - number_acc: 0.9746 - color_acc: 0.8357 - val_loss: 0.8765 - val_number_loss: 0.0947 - val_color_loss: 0.7818 - val_number_acc: 0.9747 - val_color_acc: 0.8439\n",
      "Epoch 50/50\n",
      "48000/48000 [==============================] - 14s 293us/step - loss: 0.8584 - number_loss: 0.0869 - color_loss: 0.7715 - number_acc: 0.9752 - color_acc: 0.8434 - val_loss: 0.8442 - val_number_loss: 0.0968 - val_color_loss: 0.7473 - val_number_acc: 0.9744 - val_color_acc: 0.8522\n"
     ]
    },
    {
     "data": {
      "text/plain": [
       "<keras.callbacks.callbacks.History at 0x7ff3bc857668>"
      ]
     },
     "execution_count": 10,
     "metadata": {},
     "output_type": "execute_result"
    }
   ],
   "source": [
    "model_gradflip = get_multitask_network_gradflip(simplenet, gradflip_lambda=GRADFLIP_LAMBDA)\n",
    "\n",
    "LOSS = 'categorical_crossentropy'\n",
    "loss_weights = {\n",
    "    \"number\": 1,\n",
    "    \"color\": 1\n",
    "}\n",
    "\n",
    "model_gradflip, callbacks = compile_model(model_gradflip, 'mnist_number_color', LOSS,\n",
    "                                          loss_weights=loss_weights, initial_lr=INITIAL_LR, patience=PATIENCE)\n",
    "model_gradflip.fit(x_train_color, y_train_multi, validation_split=.2,\n",
    "                   epochs=EPOCHS, callbacks=callbacks)"
   ]
  },
  {
   "cell_type": "markdown",
   "metadata": {},
   "source": [
    " Now, lets predict on the inconsistently colored testset"
   ]
  },
  {
   "cell_type": "code",
   "execution_count": 11,
   "metadata": {},
   "outputs": [
    {
     "data": {
      "image/png": "[encoded data removed]",
      "text/plain": [
       "<Figure size 432x288 with 2 Axes>"
      ]
     },
     "metadata": {
      "needs_background": "light"
     },
     "output_type": "display_data"
    },
    {
     "name": "stdout",
     "output_type": "stream",
     "text": [
      "Accuracy: 87.80%\n",
      "Per class statistics:\n",
      "  - 0: precision 90.75%, recall 92.14%\n",
      "  - 1: precision 95.95%, recall 98.06%\n",
      "  - 2: precision 91.96%, recall 79.75%\n",
      "  - 3: precision 81.52%, recall 85.15%\n",
      "  - 4: precision 82.57%, recall 95.01%\n",
      "  - 5: precision 86.63%, recall 82.06%\n",
      "  - 6: precision 92.85%, recall 93.53%\n",
      "  - 7: precision 93.26%, recall 87.45%\n",
      "  - 8: precision 79.82%, recall 81.21%\n",
      "  - 9: precision 83.00%, recall 82.26%\n"
     ]
    }
   ],
   "source": [
    "# no consistent coloring in the testset, contrary to the trainingset\n",
    "# todo: how are we guaranteed of the order of outputs?\n",
    "y_pred_number, y_pred_color = model_gradflip.predict(x_test_color)\n",
    "y_pred_number = np.argmax(y_pred_number, axis=1)\n",
    "evaluate_results(y_test, y_pred_number, classes)\n"
   ]
  },
  {
   "cell_type": "markdown",
   "metadata": {},
   "source": [
    "## Conclusion\n",
    "\n",
    "Following settings:  \n",
    "INITIAL_LR = 1e-4  \n",
    "EPOCHS = 50  \n",
    "PATIENCE = EPOCHS  \n",
    "BIAS = 0.9  \n",
    "GRADFLIP_LAMBDA = .1  \n",
    "\n",
    "Our testset accuracy in predicting the number went up from 84.33 to 90.4 percent, which is pretty decent. "
   ]
  },
  {
   "cell_type": "markdown",
   "metadata": {},
   "source": [
    " # Notes:\n",
    " * Bias cannot be set to 1. If it is 1, color and number information align exactly and the two heads fight for keeping/destroying that information, without being able to nuance. Noisy bias ensures that there is indeed color info in the embedding, **separable** from number info.\n",
    " * Use a more powerful color branch (more dense layers) than the number branch so that simple hiding of color info in the embedding isn't enough."
   ]
  },
  {
   "cell_type": "code",
   "execution_count": null,
   "metadata": {},
   "outputs": [],
   "source": []
  }
 ],
 "metadata": {
  "file_extension": ".py",
  "kernelspec": {
   "display_name": "ludwig",
   "language": "python",
   "name": "ludwig"
  },
  "language_info": {
   "codemirror_mode": {
    "name": "ipython",
    "version": 3
   },
   "file_extension": ".py",
   "mimetype": "text/x-python",
   "name": "python",
   "nbconvert_exporter": "python",
   "pygments_lexer": "ipython3",
   "version": "3.6.9"
  },
  "mimetype": "text/x-python",
  "name": "python",
  "npconvert_exporter": "python",
  "pygments_lexer": "ipython3",
  "version": 3
 },
 "nbformat": 4,
 "nbformat_minor": 4
}
